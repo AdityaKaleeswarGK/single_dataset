{
 "cells": [
  {
   "cell_type": "code",
   "execution_count": null,
   "metadata": {},
   "outputs": [
    {
     "name": "stdout",
     "output_type": "stream",
     "text": [
      "Requirement already satisfied: duckdb in c:\\users\\aditya kaleeswar gk\\appdata\\local\\programs\\python\\python312\\lib\\site-packages (1.2.0)\n",
      "Note: you may need to restart the kernel to use updated packages.\n"
     ]
    },
    {
     "name": "stderr",
     "output_type": "stream",
     "text": [
      "\n",
      "[notice] A new release of pip is available: 24.3.1 -> 25.0.1\n",
      "[notice] To update, run: python.exe -m pip install --upgrade pip\n"
     ]
    }
   ],
   "source": [
    "%pip install duckdb\n"
   ]
  },
  {
   "cell_type": "code",
   "execution_count": 28,
   "metadata": {},
   "outputs": [],
   "source": [
    "import pandas as pd\n",
    "import numpy as np\n",
    "import plotly\n",
    "import ollama\n",
    "import duckdb\n",
    "import json\n",
    "import re"
   ]
  },
  {
   "cell_type": "code",
   "execution_count": 25,
   "metadata": {},
   "outputs": [],
   "source": [
    "Model_Name=\"llama3.2:latest\""
   ]
  },
  {
   "cell_type": "code",
   "execution_count": 7,
   "metadata": {},
   "outputs": [],
   "source": [
    "con=duckdb.connect()\n",
    "tablename=\"data\"\n",
    "file_path=\"food_delivery_data.csv\"\n",
    "con.execute(f\"\"\"\n",
    "            CREATE TABLE {tablename} AS\n",
    "            SELECT * FROM read_csv_auto('{file_path}')\n",
    "            \"\"\")\n",
    "df = con.execute(f\"SELECT * FROM {tablename} WHERE NOT EXISTS (SELECT 1 FROM {tablename} WHERE COLUMNS(*) IS NULL)\").fetchdf()"
   ]
  },
  {
   "cell_type": "code",
   "execution_count": 8,
   "metadata": {},
   "outputs": [
    {
     "data": {
      "text/html": [
       "<div>\n",
       "<style scoped>\n",
       "    .dataframe tbody tr th:only-of-type {\n",
       "        vertical-align: middle;\n",
       "    }\n",
       "\n",
       "    .dataframe tbody tr th {\n",
       "        vertical-align: top;\n",
       "    }\n",
       "\n",
       "    .dataframe thead th {\n",
       "        text-align: right;\n",
       "    }\n",
       "</style>\n",
       "<table border=\"1\" class=\"dataframe\">\n",
       "  <thead>\n",
       "    <tr style=\"text-align: right;\">\n",
       "      <th></th>\n",
       "      <th>cid</th>\n",
       "      <th>name</th>\n",
       "      <th>type</th>\n",
       "      <th>notnull</th>\n",
       "      <th>dflt_value</th>\n",
       "      <th>pk</th>\n",
       "    </tr>\n",
       "  </thead>\n",
       "  <tbody>\n",
       "    <tr>\n",
       "      <th>0</th>\n",
       "      <td>0</td>\n",
       "      <td>OrderID</td>\n",
       "      <td>BIGINT</td>\n",
       "      <td>False</td>\n",
       "      <td>None</td>\n",
       "      <td>False</td>\n",
       "    </tr>\n",
       "    <tr>\n",
       "      <th>1</th>\n",
       "      <td>1</td>\n",
       "      <td>CustomerID</td>\n",
       "      <td>BIGINT</td>\n",
       "      <td>False</td>\n",
       "      <td>None</td>\n",
       "      <td>False</td>\n",
       "    </tr>\n",
       "    <tr>\n",
       "      <th>2</th>\n",
       "      <td>2</td>\n",
       "      <td>OrderDate</td>\n",
       "      <td>DATE</td>\n",
       "      <td>False</td>\n",
       "      <td>None</td>\n",
       "      <td>False</td>\n",
       "    </tr>\n",
       "    <tr>\n",
       "      <th>3</th>\n",
       "      <td>3</td>\n",
       "      <td>DeliveryDistanceKM</td>\n",
       "      <td>DOUBLE</td>\n",
       "      <td>False</td>\n",
       "      <td>None</td>\n",
       "      <td>False</td>\n",
       "    </tr>\n",
       "    <tr>\n",
       "      <th>4</th>\n",
       "      <td>4</td>\n",
       "      <td>OrderAmount</td>\n",
       "      <td>VARCHAR</td>\n",
       "      <td>False</td>\n",
       "      <td>None</td>\n",
       "      <td>False</td>\n",
       "    </tr>\n",
       "    <tr>\n",
       "      <th>5</th>\n",
       "      <td>5</td>\n",
       "      <td>DiscountApplied</td>\n",
       "      <td>DOUBLE</td>\n",
       "      <td>False</td>\n",
       "      <td>None</td>\n",
       "      <td>False</td>\n",
       "    </tr>\n",
       "    <tr>\n",
       "      <th>6</th>\n",
       "      <td>6</td>\n",
       "      <td>DeliveryTimeMin</td>\n",
       "      <td>BIGINT</td>\n",
       "      <td>False</td>\n",
       "      <td>None</td>\n",
       "      <td>False</td>\n",
       "    </tr>\n",
       "  </tbody>\n",
       "</table>\n",
       "</div>"
      ],
      "text/plain": [
       "   cid                name     type  notnull dflt_value     pk\n",
       "0    0             OrderID   BIGINT    False       None  False\n",
       "1    1          CustomerID   BIGINT    False       None  False\n",
       "2    2           OrderDate     DATE    False       None  False\n",
       "3    3  DeliveryDistanceKM   DOUBLE    False       None  False\n",
       "4    4         OrderAmount  VARCHAR    False       None  False\n",
       "5    5     DiscountApplied   DOUBLE    False       None  False\n",
       "6    6     DeliveryTimeMin   BIGINT    False       None  False"
      ]
     },
     "execution_count": 8,
     "metadata": {},
     "output_type": "execute_result"
    }
   ],
   "source": [
    "con.execute(f\"PRAGMA table_info({tablename})\").fetchdf()"
   ]
  },
  {
   "cell_type": "code",
   "execution_count": 9,
   "metadata": {},
   "outputs": [
    {
     "data": {
      "text/html": [
       "<div>\n",
       "<style scoped>\n",
       "    .dataframe tbody tr th:only-of-type {\n",
       "        vertical-align: middle;\n",
       "    }\n",
       "\n",
       "    .dataframe tbody tr th {\n",
       "        vertical-align: top;\n",
       "    }\n",
       "\n",
       "    .dataframe thead th {\n",
       "        text-align: right;\n",
       "    }\n",
       "</style>\n",
       "<table border=\"1\" class=\"dataframe\">\n",
       "  <thead>\n",
       "    <tr style=\"text-align: right;\">\n",
       "      <th></th>\n",
       "      <th>OrderID</th>\n",
       "      <th>CustomerID</th>\n",
       "      <th>OrderDate</th>\n",
       "      <th>DeliveryDistanceKM</th>\n",
       "      <th>OrderAmount</th>\n",
       "      <th>DiscountApplied</th>\n",
       "      <th>DeliveryTimeMin</th>\n",
       "    </tr>\n",
       "  </thead>\n",
       "  <tbody>\n",
       "    <tr>\n",
       "      <th>0</th>\n",
       "      <td>8180</td>\n",
       "      <td>436</td>\n",
       "      <td>2024-11-27</td>\n",
       "      <td>17.37</td>\n",
       "      <td>$35.53</td>\n",
       "      <td>0.70</td>\n",
       "      <td>42</td>\n",
       "    </tr>\n",
       "    <tr>\n",
       "      <th>1</th>\n",
       "      <td>2138</td>\n",
       "      <td>265</td>\n",
       "      <td>2024-11-27</td>\n",
       "      <td>4.44</td>\n",
       "      <td>$36.58</td>\n",
       "      <td>9.36</td>\n",
       "      <td>52</td>\n",
       "    </tr>\n",
       "    <tr>\n",
       "      <th>2</th>\n",
       "      <td>8737</td>\n",
       "      <td>193</td>\n",
       "      <td>2024-10-31</td>\n",
       "      <td>19.66</td>\n",
       "      <td>$79.93</td>\n",
       "      <td>3.38</td>\n",
       "      <td>59</td>\n",
       "    </tr>\n",
       "    <tr>\n",
       "      <th>3</th>\n",
       "      <td>1913</td>\n",
       "      <td>769</td>\n",
       "      <td>2024-11-14</td>\n",
       "      <td>1.99</td>\n",
       "      <td>$23.16</td>\n",
       "      <td>1.44</td>\n",
       "      <td>11</td>\n",
       "    </tr>\n",
       "    <tr>\n",
       "      <th>4</th>\n",
       "      <td>1506</td>\n",
       "      <td>982</td>\n",
       "      <td>2025-01-05</td>\n",
       "      <td>7.26</td>\n",
       "      <td>$24.95</td>\n",
       "      <td>11.87</td>\n",
       "      <td>36</td>\n",
       "    </tr>\n",
       "  </tbody>\n",
       "</table>\n",
       "</div>"
      ],
      "text/plain": [
       "   OrderID  CustomerID  OrderDate  DeliveryDistanceKM OrderAmount  \\\n",
       "0     8180         436 2024-11-27               17.37      $35.53   \n",
       "1     2138         265 2024-11-27                4.44      $36.58   \n",
       "2     8737         193 2024-10-31               19.66      $79.93   \n",
       "3     1913         769 2024-11-14                1.99      $23.16   \n",
       "4     1506         982 2025-01-05                7.26      $24.95   \n",
       "\n",
       "   DiscountApplied  DeliveryTimeMin  \n",
       "0             0.70               42  \n",
       "1             9.36               52  \n",
       "2             3.38               59  \n",
       "3             1.44               11  \n",
       "4            11.87               36  "
      ]
     },
     "execution_count": 9,
     "metadata": {},
     "output_type": "execute_result"
    }
   ],
   "source": [
    "df.head()"
   ]
  },
  {
   "cell_type": "code",
   "execution_count": 10,
   "metadata": {},
   "outputs": [],
   "source": [
    "field_data = {col: df[col].sample(n=min(5, len(df))).tolist() for col in df.columns}"
   ]
  },
  {
   "cell_type": "code",
   "execution_count": 11,
   "metadata": {},
   "outputs": [
    {
     "data": {
      "text/plain": [
       "{'OrderID': [1539, 8588, 8033, 5203, 1684],\n",
       " 'CustomerID': [223, 374, 919, 641, 167],\n",
       " 'OrderDate': [Timestamp('2024-11-02 00:00:00'),\n",
       "  Timestamp('2024-11-11 00:00:00'),\n",
       "  Timestamp('2024-10-28 00:00:00'),\n",
       "  Timestamp('2024-10-18 00:00:00'),\n",
       "  Timestamp('2024-11-09 00:00:00')],\n",
       " 'DeliveryDistanceKM': [6.53, 10.86, 14.37, 11.3, 7.53],\n",
       " 'OrderAmount': ['$19.34', '$79.92', '$72.32', '$95.83', '$57.01'],\n",
       " 'DiscountApplied': [8.07, 3.59, 13.52, 2.81, 14.87],\n",
       " 'DeliveryTimeMin': [32, 30, 36, 37, 52]}"
      ]
     },
     "execution_count": 11,
     "metadata": {},
     "output_type": "execute_result"
    }
   ],
   "source": [
    "field_data"
   ]
  },
  {
   "cell_type": "code",
   "execution_count": 39,
   "metadata": {},
   "outputs": [],
   "source": [
    "def extract_data_insight(prompt):   \n",
    "    system_prompt = \"\"\"\n",
    "    You are a data analytics assistant. Your task is to extract structured information from user queries.\n",
    "    Given a user's query, extract the following details:\n",
    "    \n",
    "    - **Service Type**: What kind of analytics the user is requesting (e.g., summary, correlation, prediction, visualization, etc.)\n",
    "    - **Column Names**: Identify the relevant columns mentioned.\n",
    "    - **Operation**: The type of operation the user wants (e.g., sum, average, group by, filter, etc.).\n",
    "    \n",
    "    **ALERT** other than the json file i dont need any other text or explaination or anthing your job is to just give me the json file \n",
    "    Respond in JSON format as follows:\n",
    "    {\n",
    "        \"service\": \"<service_type>\",\n",
    "        \"columns\": [\"col1\", \"col2\", ...],\n",
    "        \"operation\": \"<operation_type>\"\n",
    "    }\n",
    "    \"\"\"\n",
    "    \n",
    "    response = ollama.chat(model=\"llama3.2:latest\", messages=[\n",
    "        {\"role\": \"system\", \"content\": system_prompt},\n",
    "        {\"role\": \"user\", \"content\": prompt}\n",
    "    ])\n",
    "    print(\"Raw LLM Response:\", response)\n",
    "    content = response[\"message\"].get(\"content\", \"\")\n",
    "    return content"
   ]
  },
  {
   "cell_type": "code",
   "execution_count": 43,
   "metadata": {},
   "outputs": [
    {
     "name": "stdout",
     "output_type": "stream",
     "text": [
      "Raw LLM Response: model='llama3.2:latest' created_at='2025-03-02T14:35:18.0582774Z' done=True done_reason='stop' total_duration=2238132500 load_duration=32706200 prompt_eval_count=225 prompt_eval_duration=76000000 eval_count=31 eval_duration=2127000000 message=Message(role='assistant', content='{\\n  \"service\": \"visualization\",\\n  \"columns\": [\"DeliveryDistanceKM\", \"DeliveryTimeMin\"],\\n  \"operation\": \"none\"\\n}', images=None, tool_calls=None)\n",
      "\"{\\n  \\\"service\\\": \\\"visualization\\\",\\n  \\\"columns\\\": [\\\"DeliveryDistanceKM\\\", \\\"DeliveryTimeMin\\\"],\\n  \\\"operation\\\": \\\"none\\\"\\n}\"\n"
     ]
    }
   ],
   "source": [
    "user_query = \"Scatter plot with 'DeliveryDistanceKM' on the x-axis and 'DeliveryTimeMin' on the y-axis\"\n",
    "result = extract_data_insight(user_query)\n",
    "print(json.dumps(result, indent=2))"
   ]
  },
  {
   "cell_type": "code",
   "execution_count": 47,
   "metadata": {},
   "outputs": [],
   "source": [
    "def generate_duckdb_code(content):\n",
    "    prompt = f\"\"\"\n",
    "    You are an AI assistant that generates Python code for performing operations on an \n",
    "    existing DuckDB DataFrame (`df`). Given a string in the form format of an dictionary describing a data operation, \n",
    "    generate a complete Python script that processes `df` accordingly.\n",
    "\n",
    "    The  string in the format of an dictionary contains the following fields:\n",
    "    - **service_type**: Specifies the type of operation to perform (e.g., \"aggregation\", \"filtering\", \"sorting\", \"visualization\").\n",
    "    - **columns**: A list of columns involved in the operation.\n",
    "    - **operation**: Describes the specific operation to perform (e.g., \"sum\", \"average\", \"count\", \"filter where column X > Y\", \"scatter plot of column X vs column Y\").\n",
    "\n",
    "    Instructions:\n",
    "    1. **Perform the operation** directly on the provided DataFrame `df` using DuckDB.\n",
    "    2. **Return the complete Python script** that executes the operation.\n",
    "    3. If the `service_type` is \"visualization\", generate the visualization using **Plotly**.\n",
    "\n",
    "    Assume `df` is already available and represents a DuckDB DataFrame. The generated code should not reload the dataset.\n",
    "\n",
    "    Generate the Python script that implements this operation on `df`:\n",
    "    IMPORTANT:\n",
    "    the output should only contain the requried code and nothing else\n",
    "    \"\"\"\n",
    "\n",
    "    # Call the local LLM using Ollama\n",
    "    response = ollama.chat(model=\"llama3.2:latest\", messages=[{\"role\": \"user\", \"content\": prompt+content}])\n",
    "\n",
    "    # Extract the response\n",
    "    generated_code = response['message']['content']\n",
    "    \n",
    "    return generated_code"
   ]
  },
  {
   "cell_type": "code",
   "execution_count": 49,
   "metadata": {},
   "outputs": [
    {
     "ename": "AttributeError",
     "evalue": "'duckdb.duckdb.DuckDBPyConnection' object has no attribute 'is_empty'",
     "output_type": "error",
     "traceback": [
      "\u001b[1;31m---------------------------------------------------------------------------\u001b[0m",
      "\u001b[1;31mAttributeError\u001b[0m                            Traceback (most recent call last)",
      "Cell \u001b[1;32mIn[49], line 7\u001b[0m\n\u001b[0;32m      4\u001b[0m     extracted_code \u001b[38;5;241m=\u001b[39m match\u001b[38;5;241m.\u001b[39mgroup(\u001b[38;5;241m1\u001b[39m)\n\u001b[0;32m      6\u001b[0m     \u001b[38;5;66;03m# Execute the extracted code\u001b[39;00m\n\u001b[1;32m----> 7\u001b[0m     \u001b[43mexec\u001b[49m\u001b[43m(\u001b[49m\u001b[43mextracted_code\u001b[49m\u001b[43m)\u001b[49m\n\u001b[0;32m      8\u001b[0m \u001b[38;5;28;01melse\u001b[39;00m:\n\u001b[0;32m      9\u001b[0m     \u001b[38;5;28mprint\u001b[39m(\u001b[38;5;124m\"\u001b[39m\u001b[38;5;124mNo valid Python code found.\u001b[39m\u001b[38;5;124m\"\u001b[39m)\n",
      "File \u001b[1;32m<string>:8\u001b[0m\n",
      "\u001b[1;31mAttributeError\u001b[0m: 'duckdb.duckdb.DuckDBPyConnection' object has no attribute 'is_empty'"
     ]
    }
   ],
   "source": [
    "match = re.search(r'```python\\n(.*?)\\n```', generate_duckdb_code(result), re.DOTALL)\n",
    "\n",
    "if match:\n",
    "    extracted_code = match.group(1)\n",
    "    \n",
    "    # Execute the extracted code\n",
    "    exec(extracted_code)\n",
    "else:\n",
    "    print(\"No valid Python code found.\")"
   ]
  },
  {
   "cell_type": "code",
   "execution_count": 50,
   "metadata": {},
   "outputs": [
    {
     "name": "stdout",
     "output_type": "stream",
     "text": [
      "No visualization required\n"
     ]
    }
   ],
   "source": [
    "import plotly.express as px\n",
    "import pandas as pd\n",
    "\n",
    "def perform_operation(df):\n",
    "    # Get the specified columns\n",
    "    columns = df[[\"DeliveryDistanceKM\", \"DeliveryTimeMin\"]]\n",
    "\n",
    "    if \"service_type\" == \"visualization\":\n",
    "        # Generate scatter plot of DeliveryDistanceKM vs DeliveryTimeMin\n",
    "        fig = px.scatter(columns, x=\"DeliveryDistanceKM\", y=\"DeliveryTimeMin\")\n",
    "        \n",
    "        return fig\n",
    "\n",
    "df = pd.DataFrame({\n",
    "    'DeliveryDistanceKM': [5.1, 6.4, 7.3],\n",
    "    'DeliveryTimeMin': [17.8, 16.9, 18.0]\n",
    "})\n",
    "\n",
    "# Create a figure with the specified columns and operation\n",
    "result = perform_operation(df)\n",
    "\n",
    "if result is not None:\n",
    "    # Show the plot\n",
    "    import plotly.io as plotly_io\n",
    "    plotly_io.show(result)\n",
    "else:\n",
    "    print(\"No visualization required\")"
   ]
  },
  {
   "cell_type": "code",
   "execution_count": 51,
   "metadata": {},
   "outputs": [
    {
     "data": {
      "application/vnd.plotly.v1+json": {
       "config": {
        "plotlyServerURL": "https://plot.ly"
       },
       "data": [
        {
         "hovertemplate": "Distance (KM)=%{x}<br>Time (Minutes)=%{y}<extra></extra>",
         "legendgroup": "",
         "marker": {
          "color": "blue",
          "symbol": "circle"
         },
         "mode": "markers",
         "name": "",
         "orientation": "v",
         "showlegend": false,
         "type": "scatter",
         "x": [
          17.37,
          4.44,
          19.66,
          1.99,
          7.26,
          5.28,
          15.73,
          1.29,
          17.17,
          17.37,
          12,
          10.74,
          19.93,
          10.32,
          4.97,
          19.84,
          11.7,
          13.79,
          8.12,
          3.28,
          2.67,
          11.78,
          4.67,
          6.84,
          14.15,
          11.14,
          10.51,
          17.44,
          9.81,
          9.21,
          19.41,
          7.39,
          17.51,
          9.89,
          10.51,
          18.58,
          6.34,
          3.34,
          4.7,
          10.44,
          15.88,
          5.01,
          2.7,
          5.27,
          15.37,
          4.47,
          13.25,
          3.1,
          3.87,
          1.98,
          13.31,
          19.12,
          14.69,
          8.92,
          7.25,
          17.62,
          12.76,
          18.49,
          7.28,
          13.4,
          4.28,
          6.29,
          6.31,
          17.27,
          17.46,
          3.32,
          1.08,
          2.03,
          12.2,
          8.27,
          2.81,
          6.35,
          14.39,
          11.28,
          15.93,
          16.28,
          7.69,
          4.53,
          16.32,
          2.52,
          10.86,
          6.61,
          5.01,
          14.08,
          3.7,
          17.14,
          6.6,
          8.58,
          8.36,
          3.07,
          13.99,
          15.28,
          5.54,
          16.23,
          6.23,
          2.62,
          3.04,
          5.4,
          1,
          11.45,
          6.08,
          13.77,
          7.76,
          9.61,
          17.92,
          7.99,
          3.66,
          17.75,
          5.15,
          14.33,
          11.44,
          5.65,
          18.1,
          3.17,
          15.48,
          8.95,
          17.74,
          6.53,
          10.33,
          9.15,
          2.61,
          5.91,
          18.84,
          14.72,
          1.37,
          14.55,
          7.45,
          19.91,
          10.99,
          1.64,
          8.83,
          1.55,
          16.12,
          2.27,
          18.58,
          2.25,
          14.36,
          12.01,
          3.44,
          18.72,
          2.9,
          2.1,
          11.78,
          17.82,
          6.62,
          19.6,
          7.12,
          14.95,
          10.54,
          3.71,
          10.01,
          7.24,
          17.84,
          15.15,
          6.16,
          12.03,
          5.65,
          14.39,
          4.84,
          4.73,
          12.89,
          16.29,
          16.64,
          1.84,
          3.36,
          13.13,
          1.33,
          5.3,
          3.58,
          10.38,
          19.85,
          12.27,
          19.69,
          15.72,
          3.67,
          15.24,
          5.94,
          16.43,
          11.35,
          16.49,
          3.59,
          12.14,
          6.09,
          13.13,
          16.14,
          17.91,
          12.13,
          2.93,
          15.72,
          16.76,
          16.38,
          16.54,
          6.1,
          17.86,
          15.95,
          15.92,
          10.89,
          13.77,
          9.49,
          9.51,
          17.51,
          8.21,
          2.94,
          14.63,
          9.57,
          11.9,
          19.67,
          10,
          11.3,
          12.29,
          12.29,
          16.78,
          16.06,
          14.36,
          2.76,
          8.72,
          15.51,
          14.16,
          2.28,
          10.89,
          5.99,
          16.98,
          9.97,
          6.87,
          12.81,
          7.18,
          13.42,
          11.21,
          1.11,
          12.37,
          10.79,
          8.08,
          16.28,
          18.96,
          7.2,
          11.07,
          16.56,
          10.94,
          9.75,
          4.01,
          19.03,
          9.35,
          9.34,
          17.38,
          11.44,
          14.37,
          4.29,
          15,
          1.33,
          16.95,
          9.21,
          4.01,
          10.69,
          7.21,
          13.88,
          7.99,
          15.99,
          6.49,
          9.94,
          16.55,
          6.16,
          8.39,
          12.77,
          4.6,
          3.42,
          11.01,
          9.69,
          16.89,
          4.12,
          8.49,
          17.25,
          11.86,
          12.99,
          8.62,
          2.01,
          13.34,
          9.62,
          9.99,
          17.4,
          4.85,
          3.41,
          16.76,
          11.94,
          7.3,
          16.07,
          19.36,
          2.71,
          16.02,
          1.23,
          19.09,
          5.47,
          5.84,
          19.17,
          12.5,
          10.75,
          10.52,
          3.25,
          19.27,
          19.93,
          15.77,
          15.78,
          6.27,
          14.64,
          7.35,
          17.54,
          8.23,
          3.18,
          6.89,
          7.48,
          13.63,
          13.28,
          13.5,
          9.43,
          17.38,
          13.03,
          2.42,
          4.38,
          9.9,
          16.25,
          1.52,
          16.7,
          1.19,
          15.02,
          7.9,
          14.7,
          16.3,
          3.04,
          10.64,
          3.84,
          7.13,
          18.16,
          2.05,
          12.74,
          2.39,
          12.06,
          14.87,
          13.26,
          7.23,
          9.51,
          12.87,
          5.58,
          11.15,
          13.34,
          17.08,
          19.45,
          14.11,
          19.09,
          18.09,
          9,
          3.8,
          11.4,
          17.66,
          12.71,
          17.74,
          3.4,
          10.24,
          8.03,
          18.64,
          10.49,
          4.06,
          13.1,
          19.13,
          4.64,
          6.42,
          6.23,
          19.6,
          3.7,
          7.03,
          14.61,
          9.18,
          3.69,
          18.24,
          3.08,
          1.1,
          10.47,
          9.71,
          6.28,
          4.8,
          14.27,
          16.35,
          16.01,
          14.7,
          10.93,
          6.92,
          16.67,
          17.43,
          16.12,
          16.43,
          13.47,
          5.4,
          16.33,
          15.04,
          3.63,
          13.65,
          2.86,
          14.76,
          16.92,
          10.47,
          5.67,
          9.53,
          17.47,
          17.15,
          2.95,
          8.05,
          11.57,
          2.39,
          4.9,
          16.51,
          16.51,
          16.12,
          14.01,
          2.47,
          15.61,
          1.49,
          6.1,
          9.79,
          8.91,
          16.15,
          13.8,
          10.69,
          1.41,
          7.53,
          12.21,
          10.2,
          16.63,
          6.62,
          17.89,
          9.52,
          14.2,
          1.37,
          6,
          14.41,
          14.62,
          17.02,
          10.56,
          18.07,
          11.95,
          2.39,
          1.21,
          7.35,
          4.79,
          19.08,
          7.87,
          15.42,
          16.69,
          12.62,
          13.52,
          13.97,
          15.57,
          15.94,
          19.44,
          18.27,
          7.78,
          8.97,
          11.3,
          11.57,
          4.31,
          2.34,
          4.45,
          19.82,
          7.42,
          18.36,
          3.51,
          15.64,
          4.99,
          16.15,
          5.3,
          7.51,
          3.41,
          6.4,
          2.75,
          14.35,
          18.85,
          13.89,
          10.05,
          15.46,
          13.83,
          14.15,
          1.74,
          12.7,
          17.64,
          5.06,
          4.01,
          9.16,
          7.69,
          13.79,
          14.1,
          8.13,
          13.69,
          6.87,
          2.5,
          6.76,
          17.1,
          1.21,
          18.61,
          19.28,
          15.11,
          13.1,
          1.83,
          2.25
         ],
         "xaxis": "x",
         "y": [
          42,
          52,
          59,
          11,
          36,
          42,
          34,
          28,
          25,
          42,
          18,
          50,
          37,
          38,
          48,
          30,
          37,
          48,
          50,
          14,
          28,
          48,
          46,
          10,
          53,
          36,
          26,
          59,
          36,
          49,
          42,
          45,
          31,
          51,
          48,
          48,
          33,
          18,
          32,
          27,
          53,
          33,
          41,
          20,
          57,
          17,
          59,
          47,
          33,
          29,
          26,
          35,
          16,
          53,
          55,
          50,
          33,
          26,
          37,
          11,
          58,
          20,
          23,
          42,
          55,
          56,
          34,
          17,
          12,
          33,
          28,
          43,
          36,
          27,
          47,
          19,
          44,
          33,
          37,
          41,
          10,
          40,
          24,
          52,
          25,
          24,
          57,
          49,
          60,
          53,
          34,
          47,
          60,
          37,
          47,
          45,
          24,
          46,
          11,
          22,
          49,
          15,
          37,
          29,
          12,
          18,
          31,
          16,
          27,
          16,
          26,
          43,
          35,
          33,
          18,
          21,
          40,
          18,
          20,
          52,
          24,
          41,
          39,
          30,
          49,
          51,
          16,
          59,
          44,
          13,
          54,
          17,
          27,
          29,
          40,
          27,
          22,
          48,
          21,
          32,
          39,
          60,
          41,
          31,
          33,
          20,
          29,
          49,
          25,
          27,
          18,
          20,
          27,
          39,
          18,
          51,
          23,
          24,
          41,
          33,
          18,
          19,
          46,
          11,
          53,
          40,
          24,
          15,
          50,
          19,
          33,
          23,
          51,
          57,
          55,
          58,
          20,
          26,
          60,
          16,
          11,
          29,
          43,
          47,
          23,
          34,
          48,
          42,
          28,
          19,
          14,
          55,
          39,
          22,
          50,
          12,
          20,
          46,
          50,
          54,
          46,
          39,
          46,
          30,
          56,
          38,
          43,
          53,
          15,
          25,
          54,
          58,
          51,
          10,
          54,
          42,
          24,
          34,
          30,
          23,
          43,
          22,
          53,
          35,
          18,
          35,
          50,
          23,
          24,
          35,
          27,
          12,
          36,
          30,
          48,
          36,
          38,
          27,
          37,
          31,
          20,
          52,
          16,
          53,
          32,
          59,
          26,
          53,
          29,
          36,
          25,
          24,
          22,
          16,
          48,
          39,
          29,
          56,
          57,
          36,
          31,
          19,
          31,
          60,
          11,
          37,
          31,
          24,
          42,
          19,
          35,
          15,
          52,
          24,
          25,
          45,
          10,
          21,
          35,
          17,
          28,
          47,
          60,
          27,
          52,
          59,
          34,
          10,
          36,
          30,
          49,
          10,
          16,
          21,
          25,
          27,
          27,
          60,
          14,
          29,
          14,
          33,
          39,
          54,
          28,
          16,
          55,
          12,
          52,
          23,
          59,
          53,
          34,
          24,
          45,
          27,
          45,
          33,
          54,
          21,
          29,
          28,
          31,
          13,
          21,
          36,
          29,
          10,
          31,
          18,
          35,
          56,
          33,
          60,
          28,
          53,
          57,
          58,
          33,
          18,
          38,
          20,
          55,
          46,
          48,
          37,
          56,
          46,
          27,
          44,
          37,
          20,
          45,
          15,
          41,
          41,
          46,
          57,
          35,
          53,
          47,
          18,
          14,
          11,
          30,
          59,
          26,
          22,
          19,
          17,
          49,
          56,
          31,
          35,
          39,
          29,
          14,
          37,
          52,
          49,
          16,
          25,
          18,
          45,
          28,
          21,
          34,
          26,
          24,
          17,
          22,
          46,
          28,
          35,
          24,
          29,
          35,
          18,
          33,
          51,
          12,
          29,
          55,
          46,
          20,
          44,
          30,
          15,
          49,
          36,
          59,
          35,
          26,
          20,
          14,
          20,
          14,
          25,
          11,
          13,
          19,
          27,
          20,
          39,
          45,
          10,
          50,
          26,
          17,
          37,
          31,
          44,
          31,
          45,
          60,
          31,
          26,
          45,
          52,
          32,
          57,
          53,
          59,
          25,
          51,
          36,
          53,
          27,
          28,
          29,
          59,
          42,
          42,
          32,
          49,
          53,
          28,
          33,
          50,
          48,
          58,
          31,
          27,
          51,
          51,
          52,
          36,
          39,
          27,
          15,
          10,
          26,
          49,
          26,
          40,
          13,
          28,
          37,
          23,
          42,
          56,
          10,
          21,
          56,
          23,
          50,
          55,
          60,
          41,
          26,
          21,
          11,
          36,
          41,
          51,
          53,
          43,
          49,
          23,
          41
         ],
         "yaxis": "y"
        }
       ],
       "layout": {
        "legend": {
         "tracegroupgap": 0
        },
        "template": {
         "data": {
          "bar": [
           {
            "error_x": {
             "color": "#2a3f5f"
            },
            "error_y": {
             "color": "#2a3f5f"
            },
            "marker": {
             "line": {
              "color": "#E5ECF6",
              "width": 0.5
             },
             "pattern": {
              "fillmode": "overlay",
              "size": 10,
              "solidity": 0.2
             }
            },
            "type": "bar"
           }
          ],
          "barpolar": [
           {
            "marker": {
             "line": {
              "color": "#E5ECF6",
              "width": 0.5
             },
             "pattern": {
              "fillmode": "overlay",
              "size": 10,
              "solidity": 0.2
             }
            },
            "type": "barpolar"
           }
          ],
          "carpet": [
           {
            "aaxis": {
             "endlinecolor": "#2a3f5f",
             "gridcolor": "white",
             "linecolor": "white",
             "minorgridcolor": "white",
             "startlinecolor": "#2a3f5f"
            },
            "baxis": {
             "endlinecolor": "#2a3f5f",
             "gridcolor": "white",
             "linecolor": "white",
             "minorgridcolor": "white",
             "startlinecolor": "#2a3f5f"
            },
            "type": "carpet"
           }
          ],
          "choropleth": [
           {
            "colorbar": {
             "outlinewidth": 0,
             "ticks": ""
            },
            "type": "choropleth"
           }
          ],
          "contour": [
           {
            "colorbar": {
             "outlinewidth": 0,
             "ticks": ""
            },
            "colorscale": [
             [
              0,
              "#0d0887"
             ],
             [
              0.1111111111111111,
              "#46039f"
             ],
             [
              0.2222222222222222,
              "#7201a8"
             ],
             [
              0.3333333333333333,
              "#9c179e"
             ],
             [
              0.4444444444444444,
              "#bd3786"
             ],
             [
              0.5555555555555556,
              "#d8576b"
             ],
             [
              0.6666666666666666,
              "#ed7953"
             ],
             [
              0.7777777777777778,
              "#fb9f3a"
             ],
             [
              0.8888888888888888,
              "#fdca26"
             ],
             [
              1,
              "#f0f921"
             ]
            ],
            "type": "contour"
           }
          ],
          "contourcarpet": [
           {
            "colorbar": {
             "outlinewidth": 0,
             "ticks": ""
            },
            "type": "contourcarpet"
           }
          ],
          "heatmap": [
           {
            "colorbar": {
             "outlinewidth": 0,
             "ticks": ""
            },
            "colorscale": [
             [
              0,
              "#0d0887"
             ],
             [
              0.1111111111111111,
              "#46039f"
             ],
             [
              0.2222222222222222,
              "#7201a8"
             ],
             [
              0.3333333333333333,
              "#9c179e"
             ],
             [
              0.4444444444444444,
              "#bd3786"
             ],
             [
              0.5555555555555556,
              "#d8576b"
             ],
             [
              0.6666666666666666,
              "#ed7953"
             ],
             [
              0.7777777777777778,
              "#fb9f3a"
             ],
             [
              0.8888888888888888,
              "#fdca26"
             ],
             [
              1,
              "#f0f921"
             ]
            ],
            "type": "heatmap"
           }
          ],
          "heatmapgl": [
           {
            "colorbar": {
             "outlinewidth": 0,
             "ticks": ""
            },
            "colorscale": [
             [
              0,
              "#0d0887"
             ],
             [
              0.1111111111111111,
              "#46039f"
             ],
             [
              0.2222222222222222,
              "#7201a8"
             ],
             [
              0.3333333333333333,
              "#9c179e"
             ],
             [
              0.4444444444444444,
              "#bd3786"
             ],
             [
              0.5555555555555556,
              "#d8576b"
             ],
             [
              0.6666666666666666,
              "#ed7953"
             ],
             [
              0.7777777777777778,
              "#fb9f3a"
             ],
             [
              0.8888888888888888,
              "#fdca26"
             ],
             [
              1,
              "#f0f921"
             ]
            ],
            "type": "heatmapgl"
           }
          ],
          "histogram": [
           {
            "marker": {
             "pattern": {
              "fillmode": "overlay",
              "size": 10,
              "solidity": 0.2
             }
            },
            "type": "histogram"
           }
          ],
          "histogram2d": [
           {
            "colorbar": {
             "outlinewidth": 0,
             "ticks": ""
            },
            "colorscale": [
             [
              0,
              "#0d0887"
             ],
             [
              0.1111111111111111,
              "#46039f"
             ],
             [
              0.2222222222222222,
              "#7201a8"
             ],
             [
              0.3333333333333333,
              "#9c179e"
             ],
             [
              0.4444444444444444,
              "#bd3786"
             ],
             [
              0.5555555555555556,
              "#d8576b"
             ],
             [
              0.6666666666666666,
              "#ed7953"
             ],
             [
              0.7777777777777778,
              "#fb9f3a"
             ],
             [
              0.8888888888888888,
              "#fdca26"
             ],
             [
              1,
              "#f0f921"
             ]
            ],
            "type": "histogram2d"
           }
          ],
          "histogram2dcontour": [
           {
            "colorbar": {
             "outlinewidth": 0,
             "ticks": ""
            },
            "colorscale": [
             [
              0,
              "#0d0887"
             ],
             [
              0.1111111111111111,
              "#46039f"
             ],
             [
              0.2222222222222222,
              "#7201a8"
             ],
             [
              0.3333333333333333,
              "#9c179e"
             ],
             [
              0.4444444444444444,
              "#bd3786"
             ],
             [
              0.5555555555555556,
              "#d8576b"
             ],
             [
              0.6666666666666666,
              "#ed7953"
             ],
             [
              0.7777777777777778,
              "#fb9f3a"
             ],
             [
              0.8888888888888888,
              "#fdca26"
             ],
             [
              1,
              "#f0f921"
             ]
            ],
            "type": "histogram2dcontour"
           }
          ],
          "mesh3d": [
           {
            "colorbar": {
             "outlinewidth": 0,
             "ticks": ""
            },
            "type": "mesh3d"
           }
          ],
          "parcoords": [
           {
            "line": {
             "colorbar": {
              "outlinewidth": 0,
              "ticks": ""
             }
            },
            "type": "parcoords"
           }
          ],
          "pie": [
           {
            "automargin": true,
            "type": "pie"
           }
          ],
          "scatter": [
           {
            "fillpattern": {
             "fillmode": "overlay",
             "size": 10,
             "solidity": 0.2
            },
            "type": "scatter"
           }
          ],
          "scatter3d": [
           {
            "line": {
             "colorbar": {
              "outlinewidth": 0,
              "ticks": ""
             }
            },
            "marker": {
             "colorbar": {
              "outlinewidth": 0,
              "ticks": ""
             }
            },
            "type": "scatter3d"
           }
          ],
          "scattercarpet": [
           {
            "marker": {
             "colorbar": {
              "outlinewidth": 0,
              "ticks": ""
             }
            },
            "type": "scattercarpet"
           }
          ],
          "scattergeo": [
           {
            "marker": {
             "colorbar": {
              "outlinewidth": 0,
              "ticks": ""
             }
            },
            "type": "scattergeo"
           }
          ],
          "scattergl": [
           {
            "marker": {
             "colorbar": {
              "outlinewidth": 0,
              "ticks": ""
             }
            },
            "type": "scattergl"
           }
          ],
          "scattermapbox": [
           {
            "marker": {
             "colorbar": {
              "outlinewidth": 0,
              "ticks": ""
             }
            },
            "type": "scattermapbox"
           }
          ],
          "scatterpolar": [
           {
            "marker": {
             "colorbar": {
              "outlinewidth": 0,
              "ticks": ""
             }
            },
            "type": "scatterpolar"
           }
          ],
          "scatterpolargl": [
           {
            "marker": {
             "colorbar": {
              "outlinewidth": 0,
              "ticks": ""
             }
            },
            "type": "scatterpolargl"
           }
          ],
          "scatterternary": [
           {
            "marker": {
             "colorbar": {
              "outlinewidth": 0,
              "ticks": ""
             }
            },
            "type": "scatterternary"
           }
          ],
          "surface": [
           {
            "colorbar": {
             "outlinewidth": 0,
             "ticks": ""
            },
            "colorscale": [
             [
              0,
              "#0d0887"
             ],
             [
              0.1111111111111111,
              "#46039f"
             ],
             [
              0.2222222222222222,
              "#7201a8"
             ],
             [
              0.3333333333333333,
              "#9c179e"
             ],
             [
              0.4444444444444444,
              "#bd3786"
             ],
             [
              0.5555555555555556,
              "#d8576b"
             ],
             [
              0.6666666666666666,
              "#ed7953"
             ],
             [
              0.7777777777777778,
              "#fb9f3a"
             ],
             [
              0.8888888888888888,
              "#fdca26"
             ],
             [
              1,
              "#f0f921"
             ]
            ],
            "type": "surface"
           }
          ],
          "table": [
           {
            "cells": {
             "fill": {
              "color": "#EBF0F8"
             },
             "line": {
              "color": "white"
             }
            },
            "header": {
             "fill": {
              "color": "#C8D4E3"
             },
             "line": {
              "color": "white"
             }
            },
            "type": "table"
           }
          ]
         },
         "layout": {
          "annotationdefaults": {
           "arrowcolor": "#2a3f5f",
           "arrowhead": 0,
           "arrowwidth": 1
          },
          "autotypenumbers": "strict",
          "coloraxis": {
           "colorbar": {
            "outlinewidth": 0,
            "ticks": ""
           }
          },
          "colorscale": {
           "diverging": [
            [
             0,
             "#8e0152"
            ],
            [
             0.1,
             "#c51b7d"
            ],
            [
             0.2,
             "#de77ae"
            ],
            [
             0.3,
             "#f1b6da"
            ],
            [
             0.4,
             "#fde0ef"
            ],
            [
             0.5,
             "#f7f7f7"
            ],
            [
             0.6,
             "#e6f5d0"
            ],
            [
             0.7,
             "#b8e186"
            ],
            [
             0.8,
             "#7fbc41"
            ],
            [
             0.9,
             "#4d9221"
            ],
            [
             1,
             "#276419"
            ]
           ],
           "sequential": [
            [
             0,
             "#0d0887"
            ],
            [
             0.1111111111111111,
             "#46039f"
            ],
            [
             0.2222222222222222,
             "#7201a8"
            ],
            [
             0.3333333333333333,
             "#9c179e"
            ],
            [
             0.4444444444444444,
             "#bd3786"
            ],
            [
             0.5555555555555556,
             "#d8576b"
            ],
            [
             0.6666666666666666,
             "#ed7953"
            ],
            [
             0.7777777777777778,
             "#fb9f3a"
            ],
            [
             0.8888888888888888,
             "#fdca26"
            ],
            [
             1,
             "#f0f921"
            ]
           ],
           "sequentialminus": [
            [
             0,
             "#0d0887"
            ],
            [
             0.1111111111111111,
             "#46039f"
            ],
            [
             0.2222222222222222,
             "#7201a8"
            ],
            [
             0.3333333333333333,
             "#9c179e"
            ],
            [
             0.4444444444444444,
             "#bd3786"
            ],
            [
             0.5555555555555556,
             "#d8576b"
            ],
            [
             0.6666666666666666,
             "#ed7953"
            ],
            [
             0.7777777777777778,
             "#fb9f3a"
            ],
            [
             0.8888888888888888,
             "#fdca26"
            ],
            [
             1,
             "#f0f921"
            ]
           ]
          },
          "colorway": [
           "#636efa",
           "#EF553B",
           "#00cc96",
           "#ab63fa",
           "#FFA15A",
           "#19d3f3",
           "#FF6692",
           "#B6E880",
           "#FF97FF",
           "#FECB52"
          ],
          "font": {
           "color": "#2a3f5f"
          },
          "geo": {
           "bgcolor": "white",
           "lakecolor": "white",
           "landcolor": "#E5ECF6",
           "showlakes": true,
           "showland": true,
           "subunitcolor": "white"
          },
          "hoverlabel": {
           "align": "left"
          },
          "hovermode": "closest",
          "mapbox": {
           "style": "light"
          },
          "paper_bgcolor": "white",
          "plot_bgcolor": "#E5ECF6",
          "polar": {
           "angularaxis": {
            "gridcolor": "white",
            "linecolor": "white",
            "ticks": ""
           },
           "bgcolor": "#E5ECF6",
           "radialaxis": {
            "gridcolor": "white",
            "linecolor": "white",
            "ticks": ""
           }
          },
          "scene": {
           "xaxis": {
            "backgroundcolor": "#E5ECF6",
            "gridcolor": "white",
            "gridwidth": 2,
            "linecolor": "white",
            "showbackground": true,
            "ticks": "",
            "zerolinecolor": "white"
           },
           "yaxis": {
            "backgroundcolor": "#E5ECF6",
            "gridcolor": "white",
            "gridwidth": 2,
            "linecolor": "white",
            "showbackground": true,
            "ticks": "",
            "zerolinecolor": "white"
           },
           "zaxis": {
            "backgroundcolor": "#E5ECF6",
            "gridcolor": "white",
            "gridwidth": 2,
            "linecolor": "white",
            "showbackground": true,
            "ticks": "",
            "zerolinecolor": "white"
           }
          },
          "shapedefaults": {
           "line": {
            "color": "#2a3f5f"
           }
          },
          "ternary": {
           "aaxis": {
            "gridcolor": "white",
            "linecolor": "white",
            "ticks": ""
           },
           "baxis": {
            "gridcolor": "white",
            "linecolor": "white",
            "ticks": ""
           },
           "bgcolor": "#E5ECF6",
           "caxis": {
            "gridcolor": "white",
            "linecolor": "white",
            "ticks": ""
           }
          },
          "title": {
           "x": 0.05
          },
          "xaxis": {
           "automargin": true,
           "gridcolor": "white",
           "linecolor": "white",
           "ticks": "",
           "title": {
            "standoff": 15
           },
           "zerolinecolor": "white",
           "zerolinewidth": 2
          },
          "yaxis": {
           "automargin": true,
           "gridcolor": "white",
           "linecolor": "white",
           "ticks": "",
           "title": {
            "standoff": 15
           },
           "zerolinecolor": "white",
           "zerolinewidth": 2
          }
         }
        },
        "title": {
         "text": "Delivery Distance vs Time"
        },
        "xaxis": {
         "anchor": "y",
         "domain": [
          0,
          1
         ],
         "title": {
          "text": "Distance (KM)"
         }
        },
        "yaxis": {
         "anchor": "x",
         "domain": [
          0,
          1
         ],
         "title": {
          "text": "Time (Minutes)"
         }
        }
       }
      }
     },
     "metadata": {},
     "output_type": "display_data"
    }
   ],
   "source": [
    "df = con.execute(\"SELECT DeliveryDistanceKM, DeliveryTimeMin FROM data WHERE DeliveryDistanceKM IS NOT NULL AND DeliveryTimeMin IS NOT NULL\").fetchdf()\n",
    "\n",
    "# Generate a scatter plot using Plotly\n",
    "fig = px.scatter(df, x=\"DeliveryDistanceKM\", y=\"DeliveryTimeMin\",\n",
    "                 title=\"Delivery Distance vs Time\",\n",
    "                 labels={\"DeliveryDistanceKM\": \"Distance (KM)\", \"DeliveryTimeMin\": \"Time (Minutes)\"},\n",
    "                 color_discrete_sequence=[\"blue\"])\n",
    "\n",
    "# Show the plot\n",
    "fig.show()"
   ]
  },
  {
   "cell_type": "code",
   "execution_count": null,
   "metadata": {},
   "outputs": [],
   "source": []
  }
 ],
 "metadata": {
  "kernelspec": {
   "display_name": "Python 3",
   "language": "python",
   "name": "python3"
  },
  "language_info": {
   "codemirror_mode": {
    "name": "ipython",
    "version": 3
   },
   "file_extension": ".py",
   "mimetype": "text/x-python",
   "name": "python",
   "nbconvert_exporter": "python",
   "pygments_lexer": "ipython3",
   "version": "3.12.4"
  }
 },
 "nbformat": 4,
 "nbformat_minor": 2
}
